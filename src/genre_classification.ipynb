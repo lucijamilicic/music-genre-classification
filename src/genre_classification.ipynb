{
 "cells": [
  {
   "cell_type": "code",
   "execution_count": 49,
   "metadata": {
    "id": "HNLS0J56l-ok"
   },
   "outputs": [],
   "source": [
    "import pandas as pd\n",
    "import numpy as np\n",
    "from IPython.display import Audio\n",
    "\n",
    "from sklearn.preprocessing import LabelEncoder, StandardScaler\n",
    "from sklearn.model_selection import train_test_split\n",
    "from tensorflow.keras.utils import to_categorical\n",
    "\n",
    "import tensorflow as tf\n",
    "from tensorflow import keras\n",
    "from keras.models import Sequential\n",
    "from keras.layers import Dense, Dropout, Conv2D, MaxPooling2D, Flatten\n",
    "\n",
    "from matplotlib import pyplot as plt\n",
    "from sklearn.metrics import confusion_matrix\n"
   ]
  },
  {
   "cell_type": "code",
   "execution_count": 14,
   "metadata": {
    "colab": {
     "base_uri": "https://localhost:8080/",
     "height": 329
    },
    "id": "QZQ7NNqbmVw0",
    "outputId": "2ad46c7b-8575-4be3-af04-f9b50db637ce"
   },
   "outputs": [],
   "source": [
    "def load_csv_dataset():\n",
    "    \n",
    "    data = pd.read_csv('../data/features_30_sec.csv')\n",
    "    classes = data[[\"label\"]]\n",
    "    features = data.drop(['filename', 'label'], axis=1)\n",
    "    \n",
    "    encoder = LabelEncoder()\n",
    "    classes = encoder.fit_transform(classes.values.ravel())\n",
    "    classes = to_categorical(classes)\n",
    "    \n",
    "    return features, classes"
   ]
  },
  {
   "cell_type": "code",
   "execution_count": 15,
   "metadata": {
    "id": "jp9hSPwUnaSz"
   },
   "outputs": [],
   "source": [
    "X, y = load_csv_dataset()\n",
    "X_train, X_test, y_train, y_test = train_test_split(X, y, test_size=0.3, stratify=y)"
   ]
  },
  {
   "cell_type": "code",
   "execution_count": 16,
   "metadata": {
    "id": "J5H6BGk55HZj"
   },
   "outputs": [],
   "source": [
    "scaler = StandardScaler()\n",
    "scaler.fit(X_train)\n",
    "X_train = scaler.transform(X_train)\n",
    "X_test = scaler.transform(X_test)"
   ]
  },
  {
   "cell_type": "code",
   "execution_count": 17,
   "metadata": {
    "id": "TXS7f9M9_pNW"
   },
   "outputs": [
    {
     "name": "stdout",
     "output_type": "stream",
     "text": [
      "Model: \"sequential_1\"\n",
      "_________________________________________________________________\n",
      "Layer (type)                 Output Shape              Param #   \n",
      "=================================================================\n",
      "dense_2 (Dense)              (None, 512)               30208     \n",
      "_________________________________________________________________\n",
      "dropout_3 (Dropout)          (None, 512)               0         \n",
      "_________________________________________________________________\n",
      "dense_3 (Dense)              (None, 256)               131328    \n",
      "_________________________________________________________________\n",
      "dropout_4 (Dropout)          (None, 256)               0         \n",
      "_________________________________________________________________\n",
      "dense_4 (Dense)              (None, 128)               32896     \n",
      "_________________________________________________________________\n",
      "dropout_5 (Dropout)          (None, 128)               0         \n",
      "_________________________________________________________________\n",
      "dense_5 (Dense)              (None, 64)                8256      \n",
      "_________________________________________________________________\n",
      "dropout_6 (Dropout)          (None, 64)                0         \n",
      "_________________________________________________________________\n",
      "dense_6 (Dense)              (None, 10)                650       \n",
      "=================================================================\n",
      "Total params: 203,338\n",
      "Trainable params: 203,338\n",
      "Non-trainable params: 0\n",
      "_________________________________________________________________\n"
     ]
    }
   ],
   "source": [
    "model = Sequential()\n",
    "model.add(Dense(input_dim=X_train.shape[1], units=512, activation='relu'))\n",
    "model.add(Dropout(0.3))\n",
    "model.add(Dense(units=256, activation='relu'))\n",
    "model.add(Dropout(0.3))\n",
    "model.add(Dense(units=128, activation='relu'))\n",
    "model.add(Dropout(0.3))\n",
    "model.add(Dense(units=64, activation='relu'))\n",
    "model.add(Dropout(0.3))\n",
    "model.add(Dense(units=10, activation='softmax'))\n",
    "model.summary()"
   ]
  },
  {
   "cell_type": "code",
   "execution_count": 18,
   "metadata": {},
   "outputs": [],
   "source": [
    "model.compile(optimizer='adam', loss='categorical_crossentropy', metrics=['accuracy'])"
   ]
  },
  {
   "cell_type": "code",
   "execution_count": 19,
   "metadata": {},
   "outputs": [
    {
     "name": "stdout",
     "output_type": "stream",
     "text": [
      "Epoch 1/200\n",
      "6/6 [==============================] - 1s 25ms/step - loss: 2.2700 - accuracy: 0.1743 - val_loss: 2.0376 - val_accuracy: 0.3667\n",
      "Epoch 2/200\n",
      "6/6 [==============================] - 0s 8ms/step - loss: 2.0161 - accuracy: 0.3229 - val_loss: 1.7901 - val_accuracy: 0.3767\n",
      "Epoch 3/200\n",
      "6/6 [==============================] - 0s 8ms/step - loss: 1.8177 - accuracy: 0.3600 - val_loss: 1.5946 - val_accuracy: 0.4233\n",
      "Epoch 4/200\n",
      "6/6 [==============================] - 0s 8ms/step - loss: 1.6405 - accuracy: 0.4143 - val_loss: 1.4709 - val_accuracy: 0.4700\n",
      "Epoch 5/200\n",
      "6/6 [==============================] - 0s 8ms/step - loss: 1.6060 - accuracy: 0.4314 - val_loss: 1.3882 - val_accuracy: 0.4867\n",
      "Epoch 6/200\n",
      "6/6 [==============================] - 0s 9ms/step - loss: 1.5086 - accuracy: 0.4629 - val_loss: 1.3360 - val_accuracy: 0.4967\n",
      "Epoch 7/200\n",
      "6/6 [==============================] - 0s 7ms/step - loss: 1.3800 - accuracy: 0.5014 - val_loss: 1.2667 - val_accuracy: 0.5200\n",
      "Epoch 8/200\n",
      "6/6 [==============================] - 0s 9ms/step - loss: 1.2925 - accuracy: 0.5600 - val_loss: 1.1843 - val_accuracy: 0.5700\n",
      "Epoch 9/200\n",
      "6/6 [==============================] - 0s 8ms/step - loss: 1.2350 - accuracy: 0.5814 - val_loss: 1.1277 - val_accuracy: 0.5967\n",
      "Epoch 10/200\n",
      "6/6 [==============================] - 0s 8ms/step - loss: 1.1649 - accuracy: 0.5886 - val_loss: 1.1025 - val_accuracy: 0.6133\n",
      "Epoch 11/200\n",
      "6/6 [==============================] - 0s 7ms/step - loss: 1.0566 - accuracy: 0.6171 - val_loss: 1.0404 - val_accuracy: 0.6400\n",
      "Epoch 12/200\n",
      "6/6 [==============================] - 0s 8ms/step - loss: 1.0527 - accuracy: 0.6171 - val_loss: 1.0061 - val_accuracy: 0.6700\n",
      "Epoch 13/200\n",
      "6/6 [==============================] - 0s 8ms/step - loss: 0.9766 - accuracy: 0.6586 - val_loss: 1.0060 - val_accuracy: 0.6500\n",
      "Epoch 14/200\n",
      "6/6 [==============================] - 0s 8ms/step - loss: 0.9205 - accuracy: 0.6914 - val_loss: 0.9826 - val_accuracy: 0.6733\n",
      "Epoch 15/200\n",
      "6/6 [==============================] - 0s 8ms/step - loss: 0.8999 - accuracy: 0.6886 - val_loss: 0.9650 - val_accuracy: 0.6833\n",
      "Epoch 16/200\n",
      "6/6 [==============================] - 0s 8ms/step - loss: 0.8366 - accuracy: 0.7329 - val_loss: 0.9581 - val_accuracy: 0.6900\n",
      "Epoch 17/200\n",
      "6/6 [==============================] - 0s 7ms/step - loss: 0.7758 - accuracy: 0.7171 - val_loss: 0.9218 - val_accuracy: 0.7000\n",
      "Epoch 18/200\n",
      "6/6 [==============================] - 0s 8ms/step - loss: 0.7630 - accuracy: 0.7400 - val_loss: 0.9011 - val_accuracy: 0.7100\n",
      "Epoch 19/200\n",
      "6/6 [==============================] - 0s 8ms/step - loss: 0.7222 - accuracy: 0.7629 - val_loss: 0.9152 - val_accuracy: 0.6967\n",
      "Epoch 20/200\n",
      "6/6 [==============================] - 0s 8ms/step - loss: 0.6838 - accuracy: 0.7814 - val_loss: 0.9260 - val_accuracy: 0.7267\n",
      "Epoch 21/200\n",
      "6/6 [==============================] - 0s 8ms/step - loss: 0.6590 - accuracy: 0.7614 - val_loss: 0.9440 - val_accuracy: 0.7167\n",
      "Epoch 22/200\n",
      "6/6 [==============================] - 0s 8ms/step - loss: 0.6133 - accuracy: 0.7814 - val_loss: 0.9564 - val_accuracy: 0.6967\n",
      "Epoch 23/200\n",
      "6/6 [==============================] - 0s 8ms/step - loss: 0.6356 - accuracy: 0.7914 - val_loss: 0.9523 - val_accuracy: 0.7067\n",
      "Epoch 24/200\n",
      "6/6 [==============================] - 0s 8ms/step - loss: 0.5844 - accuracy: 0.7886 - val_loss: 0.9192 - val_accuracy: 0.7033\n",
      "Epoch 25/200\n",
      "6/6 [==============================] - 0s 8ms/step - loss: 0.5191 - accuracy: 0.8286 - val_loss: 0.9193 - val_accuracy: 0.7200\n",
      "Epoch 26/200\n",
      "6/6 [==============================] - 0s 7ms/step - loss: 0.5219 - accuracy: 0.8229 - val_loss: 0.9158 - val_accuracy: 0.7300\n",
      "Epoch 27/200\n",
      "6/6 [==============================] - 0s 8ms/step - loss: 0.4657 - accuracy: 0.8457 - val_loss: 0.9227 - val_accuracy: 0.7267\n",
      "Epoch 28/200\n",
      "6/6 [==============================] - 0s 9ms/step - loss: 0.4450 - accuracy: 0.8571 - val_loss: 0.9383 - val_accuracy: 0.7233\n",
      "Epoch 29/200\n",
      "6/6 [==============================] - 0s 9ms/step - loss: 0.4567 - accuracy: 0.8500 - val_loss: 0.9548 - val_accuracy: 0.7300\n",
      "Epoch 30/200\n",
      "6/6 [==============================] - 0s 9ms/step - loss: 0.4157 - accuracy: 0.8600 - val_loss: 0.9427 - val_accuracy: 0.7367\n",
      "Epoch 31/200\n",
      "6/6 [==============================] - 0s 9ms/step - loss: 0.3808 - accuracy: 0.8786 - val_loss: 0.9613 - val_accuracy: 0.7300\n",
      "Epoch 32/200\n",
      "6/6 [==============================] - 0s 9ms/step - loss: 0.3839 - accuracy: 0.8614 - val_loss: 1.0041 - val_accuracy: 0.7367\n",
      "Epoch 33/200\n",
      "6/6 [==============================] - 0s 10ms/step - loss: 0.3615 - accuracy: 0.8800 - val_loss: 0.9938 - val_accuracy: 0.7400\n",
      "Epoch 34/200\n",
      "6/6 [==============================] - 0s 9ms/step - loss: 0.3367 - accuracy: 0.8900 - val_loss: 1.0743 - val_accuracy: 0.7100\n",
      "Epoch 35/200\n",
      "6/6 [==============================] - 0s 10ms/step - loss: 0.2984 - accuracy: 0.8986 - val_loss: 1.0589 - val_accuracy: 0.7267\n",
      "Epoch 36/200\n",
      "6/6 [==============================] - 0s 9ms/step - loss: 0.3093 - accuracy: 0.9043 - val_loss: 1.0262 - val_accuracy: 0.7433\n",
      "Epoch 37/200\n",
      "6/6 [==============================] - 0s 9ms/step - loss: 0.2987 - accuracy: 0.9014 - val_loss: 1.0484 - val_accuracy: 0.7433\n",
      "Epoch 38/200\n",
      "6/6 [==============================] - 0s 9ms/step - loss: 0.2604 - accuracy: 0.9243 - val_loss: 1.0777 - val_accuracy: 0.7400\n",
      "Epoch 39/200\n",
      "6/6 [==============================] - 0s 9ms/step - loss: 0.2677 - accuracy: 0.9143 - val_loss: 1.1161 - val_accuracy: 0.7233\n",
      "Epoch 40/200\n",
      "6/6 [==============================] - 0s 10ms/step - loss: 0.2485 - accuracy: 0.9114 - val_loss: 1.0752 - val_accuracy: 0.7400\n",
      "Epoch 41/200\n",
      "6/6 [==============================] - 0s 10ms/step - loss: 0.2945 - accuracy: 0.9100 - val_loss: 1.0644 - val_accuracy: 0.7467\n",
      "Epoch 42/200\n",
      "6/6 [==============================] - 0s 9ms/step - loss: 0.2295 - accuracy: 0.9343 - val_loss: 1.0534 - val_accuracy: 0.7433\n",
      "Epoch 43/200\n",
      "6/6 [==============================] - 0s 11ms/step - loss: 0.2325 - accuracy: 0.9300 - val_loss: 1.0873 - val_accuracy: 0.7500\n",
      "Epoch 44/200\n",
      "6/6 [==============================] - 0s 9ms/step - loss: 0.2110 - accuracy: 0.9286 - val_loss: 1.1099 - val_accuracy: 0.7400\n",
      "Epoch 45/200\n",
      "6/6 [==============================] - 0s 9ms/step - loss: 0.2194 - accuracy: 0.9371 - val_loss: 1.1049 - val_accuracy: 0.7367\n",
      "Epoch 46/200\n",
      "6/6 [==============================] - 0s 9ms/step - loss: 0.2054 - accuracy: 0.9429 - val_loss: 1.1237 - val_accuracy: 0.7500\n",
      "Epoch 47/200\n",
      "6/6 [==============================] - 0s 8ms/step - loss: 0.2053 - accuracy: 0.9271 - val_loss: 1.1059 - val_accuracy: 0.7433\n",
      "Epoch 48/200\n",
      "6/6 [==============================] - 0s 9ms/step - loss: 0.1828 - accuracy: 0.9429 - val_loss: 1.1662 - val_accuracy: 0.7400\n",
      "Epoch 49/200\n",
      "6/6 [==============================] - 0s 8ms/step - loss: 0.1752 - accuracy: 0.9271 - val_loss: 1.1585 - val_accuracy: 0.7500\n",
      "Epoch 50/200\n",
      "6/6 [==============================] - 0s 9ms/step - loss: 0.1734 - accuracy: 0.9457 - val_loss: 1.1418 - val_accuracy: 0.7433\n",
      "Epoch 51/200\n",
      "6/6 [==============================] - 0s 9ms/step - loss: 0.1585 - accuracy: 0.9486 - val_loss: 1.1810 - val_accuracy: 0.7300\n",
      "Epoch 52/200\n",
      "6/6 [==============================] - 0s 10ms/step - loss: 0.1528 - accuracy: 0.9414 - val_loss: 1.2206 - val_accuracy: 0.7467\n",
      "Epoch 53/200\n",
      "6/6 [==============================] - 0s 10ms/step - loss: 0.1169 - accuracy: 0.9571 - val_loss: 1.2059 - val_accuracy: 0.7500\n",
      "Epoch 54/200\n",
      "6/6 [==============================] - 0s 10ms/step - loss: 0.1730 - accuracy: 0.9443 - val_loss: 1.2347 - val_accuracy: 0.7333\n",
      "Epoch 55/200\n",
      "6/6 [==============================] - 0s 10ms/step - loss: 0.1289 - accuracy: 0.9671 - val_loss: 1.2436 - val_accuracy: 0.7300\n",
      "Epoch 56/200\n",
      "6/6 [==============================] - 0s 8ms/step - loss: 0.1307 - accuracy: 0.9586 - val_loss: 1.2543 - val_accuracy: 0.7400\n",
      "Epoch 57/200\n",
      "6/6 [==============================] - 0s 10ms/step - loss: 0.1227 - accuracy: 0.9586 - val_loss: 1.2596 - val_accuracy: 0.7367\n",
      "Epoch 58/200\n",
      "6/6 [==============================] - 0s 11ms/step - loss: 0.0985 - accuracy: 0.9686 - val_loss: 1.2620 - val_accuracy: 0.7433\n",
      "Epoch 59/200\n"
     ]
    },
    {
     "name": "stdout",
     "output_type": "stream",
     "text": [
      "6/6 [==============================] - 0s 10ms/step - loss: 0.0832 - accuracy: 0.9757 - val_loss: 1.3341 - val_accuracy: 0.7467\n",
      "Epoch 60/200\n",
      "6/6 [==============================] - 0s 10ms/step - loss: 0.1085 - accuracy: 0.9643 - val_loss: 1.3572 - val_accuracy: 0.7500\n",
      "Epoch 61/200\n",
      "6/6 [==============================] - 0s 9ms/step - loss: 0.0930 - accuracy: 0.9686 - val_loss: 1.3408 - val_accuracy: 0.7567\n",
      "Epoch 62/200\n",
      "6/6 [==============================] - 0s 9ms/step - loss: 0.1327 - accuracy: 0.9557 - val_loss: 1.3298 - val_accuracy: 0.7767\n",
      "Epoch 63/200\n",
      "6/6 [==============================] - 0s 9ms/step - loss: 0.1157 - accuracy: 0.9557 - val_loss: 1.3349 - val_accuracy: 0.7667\n",
      "Epoch 64/200\n",
      "6/6 [==============================] - 0s 8ms/step - loss: 0.1188 - accuracy: 0.9729 - val_loss: 1.3753 - val_accuracy: 0.7433\n",
      "Epoch 65/200\n",
      "6/6 [==============================] - 0s 8ms/step - loss: 0.1110 - accuracy: 0.9643 - val_loss: 1.3007 - val_accuracy: 0.7433\n",
      "Epoch 66/200\n",
      "6/6 [==============================] - 0s 8ms/step - loss: 0.1123 - accuracy: 0.9629 - val_loss: 1.2329 - val_accuracy: 0.7467\n",
      "Epoch 67/200\n",
      "6/6 [==============================] - 0s 8ms/step - loss: 0.1090 - accuracy: 0.9629 - val_loss: 1.2337 - val_accuracy: 0.7600\n",
      "Epoch 68/200\n",
      "6/6 [==============================] - 0s 6ms/step - loss: 0.1072 - accuracy: 0.9757 - val_loss: 1.2941 - val_accuracy: 0.7567\n",
      "Epoch 69/200\n",
      "6/6 [==============================] - 0s 7ms/step - loss: 0.1275 - accuracy: 0.9686 - val_loss: 1.1977 - val_accuracy: 0.7700\n",
      "Epoch 70/200\n",
      "6/6 [==============================] - 0s 7ms/step - loss: 0.0937 - accuracy: 0.9729 - val_loss: 1.2603 - val_accuracy: 0.7567\n",
      "Epoch 71/200\n",
      "6/6 [==============================] - 0s 7ms/step - loss: 0.0766 - accuracy: 0.9843 - val_loss: 1.3704 - val_accuracy: 0.7333\n",
      "Epoch 72/200\n",
      "6/6 [==============================] - 0s 7ms/step - loss: 0.0827 - accuracy: 0.9757 - val_loss: 1.3423 - val_accuracy: 0.7467\n",
      "Epoch 73/200\n",
      "6/6 [==============================] - 0s 7ms/step - loss: 0.1032 - accuracy: 0.9700 - val_loss: 1.3045 - val_accuracy: 0.7533\n",
      "Epoch 74/200\n",
      "6/6 [==============================] - 0s 7ms/step - loss: 0.0503 - accuracy: 0.9900 - val_loss: 1.3476 - val_accuracy: 0.7600\n",
      "Epoch 75/200\n",
      "6/6 [==============================] - 0s 7ms/step - loss: 0.0983 - accuracy: 0.9614 - val_loss: 1.3493 - val_accuracy: 0.7567\n",
      "Epoch 76/200\n",
      "6/6 [==============================] - 0s 7ms/step - loss: 0.0713 - accuracy: 0.9786 - val_loss: 1.3534 - val_accuracy: 0.7533\n",
      "Epoch 77/200\n",
      "6/6 [==============================] - 0s 6ms/step - loss: 0.0717 - accuracy: 0.9771 - val_loss: 1.3387 - val_accuracy: 0.7567\n",
      "Epoch 78/200\n",
      "6/6 [==============================] - 0s 7ms/step - loss: 0.0710 - accuracy: 0.9729 - val_loss: 1.3536 - val_accuracy: 0.7600\n",
      "Epoch 79/200\n",
      "6/6 [==============================] - 0s 6ms/step - loss: 0.0773 - accuracy: 0.9771 - val_loss: 1.3688 - val_accuracy: 0.7700\n",
      "Epoch 80/200\n",
      "6/6 [==============================] - 0s 7ms/step - loss: 0.0607 - accuracy: 0.9814 - val_loss: 1.3566 - val_accuracy: 0.7600\n",
      "Epoch 81/200\n",
      "6/6 [==============================] - 0s 7ms/step - loss: 0.0484 - accuracy: 0.9871 - val_loss: 1.3374 - val_accuracy: 0.7500\n",
      "Epoch 82/200\n",
      "6/6 [==============================] - 0s 7ms/step - loss: 0.0803 - accuracy: 0.9671 - val_loss: 1.3761 - val_accuracy: 0.7400\n",
      "Epoch 83/200\n",
      "6/6 [==============================] - 0s 9ms/step - loss: 0.0716 - accuracy: 0.9843 - val_loss: 1.4632 - val_accuracy: 0.7367\n",
      "Epoch 84/200\n",
      "6/6 [==============================] - 0s 8ms/step - loss: 0.0752 - accuracy: 0.9800 - val_loss: 1.4156 - val_accuracy: 0.7500\n",
      "Epoch 85/200\n",
      "6/6 [==============================] - 0s 7ms/step - loss: 0.0777 - accuracy: 0.9757 - val_loss: 1.4427 - val_accuracy: 0.7600\n",
      "Epoch 86/200\n",
      "6/6 [==============================] - 0s 7ms/step - loss: 0.0701 - accuracy: 0.9786 - val_loss: 1.5108 - val_accuracy: 0.7400\n",
      "Epoch 87/200\n",
      "6/6 [==============================] - 0s 7ms/step - loss: 0.0646 - accuracy: 0.9800 - val_loss: 1.4420 - val_accuracy: 0.7433\n",
      "Epoch 88/200\n",
      "6/6 [==============================] - 0s 7ms/step - loss: 0.0755 - accuracy: 0.9814 - val_loss: 1.3781 - val_accuracy: 0.7467\n",
      "Epoch 89/200\n",
      "6/6 [==============================] - 0s 7ms/step - loss: 0.0584 - accuracy: 0.9857 - val_loss: 1.4203 - val_accuracy: 0.7433\n",
      "Epoch 90/200\n",
      "6/6 [==============================] - 0s 6ms/step - loss: 0.0545 - accuracy: 0.9814 - val_loss: 1.4691 - val_accuracy: 0.7467\n",
      "Epoch 91/200\n",
      "6/6 [==============================] - 0s 7ms/step - loss: 0.0677 - accuracy: 0.9786 - val_loss: 1.4869 - val_accuracy: 0.7467\n",
      "Epoch 92/200\n",
      "6/6 [==============================] - 0s 7ms/step - loss: 0.0684 - accuracy: 0.9871 - val_loss: 1.4132 - val_accuracy: 0.7600\n",
      "Epoch 93/200\n",
      "6/6 [==============================] - 0s 7ms/step - loss: 0.0714 - accuracy: 0.9743 - val_loss: 1.4286 - val_accuracy: 0.7600\n",
      "Epoch 94/200\n",
      "6/6 [==============================] - 0s 7ms/step - loss: 0.0774 - accuracy: 0.9729 - val_loss: 1.4612 - val_accuracy: 0.7467\n",
      "Epoch 95/200\n",
      "6/6 [==============================] - 0s 7ms/step - loss: 0.0486 - accuracy: 0.9843 - val_loss: 1.4901 - val_accuracy: 0.7433\n",
      "Epoch 96/200\n",
      "6/6 [==============================] - 0s 7ms/step - loss: 0.0368 - accuracy: 0.9886 - val_loss: 1.4689 - val_accuracy: 0.7433\n",
      "Epoch 97/200\n",
      "6/6 [==============================] - 0s 7ms/step - loss: 0.0326 - accuracy: 0.9943 - val_loss: 1.5013 - val_accuracy: 0.7433\n",
      "Epoch 98/200\n",
      "6/6 [==============================] - 0s 7ms/step - loss: 0.0628 - accuracy: 0.9843 - val_loss: 1.4838 - val_accuracy: 0.7500\n",
      "Epoch 99/200\n",
      "6/6 [==============================] - 0s 7ms/step - loss: 0.0627 - accuracy: 0.9800 - val_loss: 1.4610 - val_accuracy: 0.7533\n",
      "Epoch 100/200\n",
      "6/6 [==============================] - 0s 7ms/step - loss: 0.0520 - accuracy: 0.9814 - val_loss: 1.5410 - val_accuracy: 0.7467\n",
      "Epoch 101/200\n",
      "6/6 [==============================] - 0s 7ms/step - loss: 0.0388 - accuracy: 0.9914 - val_loss: 1.6449 - val_accuracy: 0.7500\n",
      "Epoch 102/200\n",
      "6/6 [==============================] - 0s 7ms/step - loss: 0.0550 - accuracy: 0.9814 - val_loss: 1.5465 - val_accuracy: 0.7633\n",
      "Epoch 103/200\n",
      "6/6 [==============================] - 0s 7ms/step - loss: 0.0636 - accuracy: 0.9800 - val_loss: 1.5462 - val_accuracy: 0.7600\n",
      "Epoch 104/200\n",
      "6/6 [==============================] - 0s 8ms/step - loss: 0.0275 - accuracy: 0.9929 - val_loss: 1.6442 - val_accuracy: 0.7567\n",
      "Epoch 105/200\n",
      "6/6 [==============================] - 0s 7ms/step - loss: 0.0448 - accuracy: 0.9914 - val_loss: 1.6808 - val_accuracy: 0.7533\n",
      "Epoch 106/200\n",
      "6/6 [==============================] - 0s 6ms/step - loss: 0.0462 - accuracy: 0.9871 - val_loss: 1.6347 - val_accuracy: 0.7533\n",
      "Epoch 107/200\n",
      "6/6 [==============================] - 0s 7ms/step - loss: 0.0632 - accuracy: 0.9771 - val_loss: 1.5677 - val_accuracy: 0.7700\n",
      "Epoch 108/200\n",
      "6/6 [==============================] - 0s 8ms/step - loss: 0.0479 - accuracy: 0.9800 - val_loss: 1.6117 - val_accuracy: 0.7667\n",
      "Epoch 109/200\n",
      "6/6 [==============================] - 0s 7ms/step - loss: 0.0766 - accuracy: 0.9771 - val_loss: 1.6689 - val_accuracy: 0.7533\n",
      "Epoch 110/200\n",
      "6/6 [==============================] - 0s 7ms/step - loss: 0.0367 - accuracy: 0.9914 - val_loss: 1.5734 - val_accuracy: 0.7533\n",
      "Epoch 111/200\n",
      "6/6 [==============================] - 0s 7ms/step - loss: 0.0296 - accuracy: 0.9943 - val_loss: 1.5275 - val_accuracy: 0.7567\n",
      "Epoch 112/200\n",
      "6/6 [==============================] - 0s 7ms/step - loss: 0.0261 - accuracy: 0.9943 - val_loss: 1.4820 - val_accuracy: 0.7667\n",
      "Epoch 113/200\n",
      "6/6 [==============================] - 0s 7ms/step - loss: 0.0310 - accuracy: 0.9929 - val_loss: 1.4976 - val_accuracy: 0.7633\n",
      "Epoch 114/200\n",
      "6/6 [==============================] - 0s 7ms/step - loss: 0.0439 - accuracy: 0.9914 - val_loss: 1.5272 - val_accuracy: 0.7633\n",
      "Epoch 115/200\n",
      "6/6 [==============================] - 0s 7ms/step - loss: 0.0591 - accuracy: 0.9829 - val_loss: 1.5460 - val_accuracy: 0.7567\n",
      "Epoch 116/200\n",
      "6/6 [==============================] - 0s 7ms/step - loss: 0.0417 - accuracy: 0.9886 - val_loss: 1.6151 - val_accuracy: 0.7433\n",
      "Epoch 117/200\n"
     ]
    },
    {
     "name": "stdout",
     "output_type": "stream",
     "text": [
      "6/6 [==============================] - 0s 7ms/step - loss: 0.0534 - accuracy: 0.9757 - val_loss: 1.6041 - val_accuracy: 0.7400\n",
      "Epoch 118/200\n",
      "6/6 [==============================] - 0s 7ms/step - loss: 0.0383 - accuracy: 0.9929 - val_loss: 1.5861 - val_accuracy: 0.7467\n",
      "Epoch 119/200\n",
      "6/6 [==============================] - 0s 7ms/step - loss: 0.0209 - accuracy: 0.9943 - val_loss: 1.5705 - val_accuracy: 0.7467\n",
      "Epoch 120/200\n",
      "6/6 [==============================] - 0s 7ms/step - loss: 0.0347 - accuracy: 0.9900 - val_loss: 1.5508 - val_accuracy: 0.7733\n",
      "Epoch 121/200\n",
      "6/6 [==============================] - 0s 7ms/step - loss: 0.0292 - accuracy: 0.9943 - val_loss: 1.6013 - val_accuracy: 0.7567\n",
      "Epoch 122/200\n",
      "6/6 [==============================] - 0s 8ms/step - loss: 0.0382 - accuracy: 0.9900 - val_loss: 1.6485 - val_accuracy: 0.7533\n",
      "Epoch 123/200\n",
      "6/6 [==============================] - 0s 7ms/step - loss: 0.0317 - accuracy: 0.9929 - val_loss: 1.6658 - val_accuracy: 0.7400\n",
      "Epoch 124/200\n",
      "6/6 [==============================] - 0s 7ms/step - loss: 0.0271 - accuracy: 0.9929 - val_loss: 1.6861 - val_accuracy: 0.7300\n",
      "Epoch 125/200\n",
      "6/6 [==============================] - 0s 7ms/step - loss: 0.0419 - accuracy: 0.9900 - val_loss: 1.6056 - val_accuracy: 0.7467\n",
      "Epoch 126/200\n",
      "6/6 [==============================] - 0s 7ms/step - loss: 0.0448 - accuracy: 0.9914 - val_loss: 1.5828 - val_accuracy: 0.7600\n",
      "Epoch 127/200\n",
      "6/6 [==============================] - 0s 7ms/step - loss: 0.0275 - accuracy: 0.9900 - val_loss: 1.5752 - val_accuracy: 0.7633\n",
      "Epoch 128/200\n",
      "6/6 [==============================] - 0s 7ms/step - loss: 0.0486 - accuracy: 0.9857 - val_loss: 1.5518 - val_accuracy: 0.7600\n",
      "Epoch 129/200\n",
      "6/6 [==============================] - 0s 8ms/step - loss: 0.0446 - accuracy: 0.9871 - val_loss: 1.6244 - val_accuracy: 0.7533\n",
      "Epoch 130/200\n",
      "6/6 [==============================] - 0s 8ms/step - loss: 0.0562 - accuracy: 0.9800 - val_loss: 1.6321 - val_accuracy: 0.7467\n",
      "Epoch 131/200\n",
      "6/6 [==============================] - 0s 6ms/step - loss: 0.0390 - accuracy: 0.9929 - val_loss: 1.6608 - val_accuracy: 0.7467\n",
      "Epoch 132/200\n",
      "6/6 [==============================] - 0s 7ms/step - loss: 0.0458 - accuracy: 0.9857 - val_loss: 1.6388 - val_accuracy: 0.7600\n",
      "Epoch 133/200\n",
      "6/6 [==============================] - 0s 8ms/step - loss: 0.0379 - accuracy: 0.9914 - val_loss: 1.5455 - val_accuracy: 0.7567\n",
      "Epoch 134/200\n",
      "6/6 [==============================] - 0s 8ms/step - loss: 0.0256 - accuracy: 0.9929 - val_loss: 1.4794 - val_accuracy: 0.7667\n",
      "Epoch 135/200\n",
      "6/6 [==============================] - 0s 7ms/step - loss: 0.0397 - accuracy: 0.9900 - val_loss: 1.4903 - val_accuracy: 0.7733\n",
      "Epoch 136/200\n",
      "6/6 [==============================] - 0s 7ms/step - loss: 0.0335 - accuracy: 0.9929 - val_loss: 1.5293 - val_accuracy: 0.7567\n",
      "Epoch 137/200\n",
      "6/6 [==============================] - 0s 8ms/step - loss: 0.0339 - accuracy: 0.9871 - val_loss: 1.5661 - val_accuracy: 0.7533\n",
      "Epoch 138/200\n",
      "6/6 [==============================] - 0s 7ms/step - loss: 0.0354 - accuracy: 0.9871 - val_loss: 1.5674 - val_accuracy: 0.7567\n",
      "Epoch 139/200\n",
      "6/6 [==============================] - 0s 7ms/step - loss: 0.0262 - accuracy: 0.9943 - val_loss: 1.6157 - val_accuracy: 0.7433\n",
      "Epoch 140/200\n",
      "6/6 [==============================] - 0s 7ms/step - loss: 0.0345 - accuracy: 0.9900 - val_loss: 1.6595 - val_accuracy: 0.7500\n",
      "Epoch 141/200\n",
      "6/6 [==============================] - 0s 7ms/step - loss: 0.0344 - accuracy: 0.9886 - val_loss: 1.6772 - val_accuracy: 0.7433\n",
      "Epoch 142/200\n",
      "6/6 [==============================] - 0s 6ms/step - loss: 0.0234 - accuracy: 0.9929 - val_loss: 1.6321 - val_accuracy: 0.7500\n",
      "Epoch 143/200\n",
      "6/6 [==============================] - 0s 7ms/step - loss: 0.0194 - accuracy: 0.9957 - val_loss: 1.6281 - val_accuracy: 0.7433\n",
      "Epoch 144/200\n",
      "6/6 [==============================] - 0s 7ms/step - loss: 0.0384 - accuracy: 0.9929 - val_loss: 1.6623 - val_accuracy: 0.7433\n",
      "Epoch 145/200\n",
      "6/6 [==============================] - 0s 7ms/step - loss: 0.0195 - accuracy: 0.9943 - val_loss: 1.6466 - val_accuracy: 0.7400\n",
      "Epoch 146/200\n",
      "6/6 [==============================] - 0s 7ms/step - loss: 0.0170 - accuracy: 0.9957 - val_loss: 1.6460 - val_accuracy: 0.7400\n",
      "Epoch 147/200\n",
      "6/6 [==============================] - 0s 7ms/step - loss: 0.0210 - accuracy: 0.9929 - val_loss: 1.6750 - val_accuracy: 0.7367\n",
      "Epoch 148/200\n",
      "6/6 [==============================] - 0s 7ms/step - loss: 0.0228 - accuracy: 0.9929 - val_loss: 1.7274 - val_accuracy: 0.7367\n",
      "Epoch 149/200\n",
      "6/6 [==============================] - 0s 7ms/step - loss: 0.0321 - accuracy: 0.9886 - val_loss: 1.7836 - val_accuracy: 0.7367\n",
      "Epoch 150/200\n",
      "6/6 [==============================] - 0s 7ms/step - loss: 0.0275 - accuracy: 0.9914 - val_loss: 1.8467 - val_accuracy: 0.7367\n",
      "Epoch 151/200\n",
      "6/6 [==============================] - 0s 7ms/step - loss: 0.0223 - accuracy: 0.9971 - val_loss: 1.7781 - val_accuracy: 0.7367\n",
      "Epoch 152/200\n",
      "6/6 [==============================] - 0s 7ms/step - loss: 0.0630 - accuracy: 0.9871 - val_loss: 1.6988 - val_accuracy: 0.7467\n",
      "Epoch 153/200\n",
      "6/6 [==============================] - 0s 8ms/step - loss: 0.0336 - accuracy: 0.9900 - val_loss: 1.7258 - val_accuracy: 0.7400\n",
      "Epoch 154/200\n",
      "6/6 [==============================] - 0s 6ms/step - loss: 0.0464 - accuracy: 0.9886 - val_loss: 1.7494 - val_accuracy: 0.7367\n",
      "Epoch 155/200\n",
      "6/6 [==============================] - 0s 7ms/step - loss: 0.0167 - accuracy: 0.9971 - val_loss: 1.8078 - val_accuracy: 0.7167\n",
      "Epoch 156/200\n",
      "6/6 [==============================] - 0s 7ms/step - loss: 0.0294 - accuracy: 0.9914 - val_loss: 1.7747 - val_accuracy: 0.7233\n",
      "Epoch 157/200\n",
      "6/6 [==============================] - 0s 7ms/step - loss: 0.0233 - accuracy: 0.9957 - val_loss: 1.7002 - val_accuracy: 0.7300\n",
      "Epoch 158/200\n",
      "6/6 [==============================] - 0s 7ms/step - loss: 0.0212 - accuracy: 0.9914 - val_loss: 1.6872 - val_accuracy: 0.7500\n",
      "Epoch 159/200\n",
      "6/6 [==============================] - 0s 8ms/step - loss: 0.0143 - accuracy: 0.9986 - val_loss: 1.6808 - val_accuracy: 0.7600\n",
      "Epoch 160/200\n",
      "6/6 [==============================] - 0s 7ms/step - loss: 0.0224 - accuracy: 0.9914 - val_loss: 1.7074 - val_accuracy: 0.7767\n",
      "Epoch 161/200\n",
      "6/6 [==============================] - 0s 6ms/step - loss: 0.0344 - accuracy: 0.9929 - val_loss: 1.6753 - val_accuracy: 0.7733\n",
      "Epoch 162/200\n",
      "6/6 [==============================] - 0s 7ms/step - loss: 0.0275 - accuracy: 0.9943 - val_loss: 1.5967 - val_accuracy: 0.7667\n",
      "Epoch 163/200\n",
      "6/6 [==============================] - 0s 7ms/step - loss: 0.0216 - accuracy: 0.9943 - val_loss: 1.6193 - val_accuracy: 0.7533\n",
      "Epoch 164/200\n",
      "6/6 [==============================] - 0s 8ms/step - loss: 0.0218 - accuracy: 0.9957 - val_loss: 1.7210 - val_accuracy: 0.7533\n",
      "Epoch 165/200\n",
      "6/6 [==============================] - 0s 7ms/step - loss: 0.0193 - accuracy: 0.9914 - val_loss: 1.7794 - val_accuracy: 0.7467\n",
      "Epoch 166/200\n",
      "6/6 [==============================] - 0s 7ms/step - loss: 0.0167 - accuracy: 0.9929 - val_loss: 1.7179 - val_accuracy: 0.7433\n",
      "Epoch 167/200\n",
      "6/6 [==============================] - 0s 7ms/step - loss: 0.0150 - accuracy: 0.9929 - val_loss: 1.6238 - val_accuracy: 0.7467\n",
      "Epoch 168/200\n",
      "6/6 [==============================] - 0s 7ms/step - loss: 0.0295 - accuracy: 0.9929 - val_loss: 1.6565 - val_accuracy: 0.7400\n",
      "Epoch 169/200\n",
      "6/6 [==============================] - 0s 7ms/step - loss: 0.0157 - accuracy: 0.9943 - val_loss: 1.8706 - val_accuracy: 0.7333\n",
      "Epoch 170/200\n",
      "6/6 [==============================] - 0s 7ms/step - loss: 0.0250 - accuracy: 0.9943 - val_loss: 1.9016 - val_accuracy: 0.7433\n",
      "Epoch 171/200\n",
      "6/6 [==============================] - 0s 7ms/step - loss: 0.0227 - accuracy: 0.9929 - val_loss: 1.8664 - val_accuracy: 0.7567\n",
      "Epoch 172/200\n",
      "6/6 [==============================] - 0s 7ms/step - loss: 0.0122 - accuracy: 0.9986 - val_loss: 1.8087 - val_accuracy: 0.7500\n",
      "Epoch 173/200\n",
      "6/6 [==============================] - 0s 7ms/step - loss: 0.0220 - accuracy: 0.9957 - val_loss: 1.7927 - val_accuracy: 0.7367\n",
      "Epoch 174/200\n",
      "6/6 [==============================] - 0s 7ms/step - loss: 0.0247 - accuracy: 0.9914 - val_loss: 1.7357 - val_accuracy: 0.7500\n",
      "Epoch 175/200\n"
     ]
    },
    {
     "name": "stdout",
     "output_type": "stream",
     "text": [
      "6/6 [==============================] - 0s 7ms/step - loss: 0.0173 - accuracy: 0.9943 - val_loss: 1.7419 - val_accuracy: 0.7567\n",
      "Epoch 176/200\n",
      "6/6 [==============================] - 0s 8ms/step - loss: 0.0187 - accuracy: 0.9943 - val_loss: 1.7238 - val_accuracy: 0.7467\n",
      "Epoch 177/200\n",
      "6/6 [==============================] - 0s 7ms/step - loss: 0.0351 - accuracy: 0.9929 - val_loss: 1.6007 - val_accuracy: 0.7400\n",
      "Epoch 178/200\n",
      "6/6 [==============================] - 0s 7ms/step - loss: 0.0149 - accuracy: 0.9943 - val_loss: 1.5993 - val_accuracy: 0.7500\n",
      "Epoch 179/200\n",
      "6/6 [==============================] - 0s 7ms/step - loss: 0.0117 - accuracy: 0.9971 - val_loss: 1.6862 - val_accuracy: 0.7567\n",
      "Epoch 180/200\n",
      "6/6 [==============================] - 0s 7ms/step - loss: 0.0266 - accuracy: 0.9929 - val_loss: 1.7392 - val_accuracy: 0.7500\n",
      "Epoch 181/200\n",
      "6/6 [==============================] - 0s 7ms/step - loss: 0.0257 - accuracy: 0.9929 - val_loss: 1.7010 - val_accuracy: 0.7500\n",
      "Epoch 182/200\n",
      "6/6 [==============================] - 0s 7ms/step - loss: 0.0163 - accuracy: 0.9957 - val_loss: 1.6348 - val_accuracy: 0.7600\n",
      "Epoch 183/200\n",
      "6/6 [==============================] - 0s 7ms/step - loss: 0.0353 - accuracy: 0.9943 - val_loss: 1.7063 - val_accuracy: 0.7433\n",
      "Epoch 184/200\n",
      "6/6 [==============================] - 0s 7ms/step - loss: 0.0084 - accuracy: 1.0000 - val_loss: 1.7692 - val_accuracy: 0.7333\n",
      "Epoch 185/200\n",
      "6/6 [==============================] - 0s 6ms/step - loss: 0.0176 - accuracy: 0.9943 - val_loss: 1.7753 - val_accuracy: 0.7433\n",
      "Epoch 186/200\n",
      "6/6 [==============================] - 0s 7ms/step - loss: 0.0142 - accuracy: 0.9986 - val_loss: 1.7575 - val_accuracy: 0.7533\n",
      "Epoch 187/200\n",
      "6/6 [==============================] - 0s 7ms/step - loss: 0.0242 - accuracy: 0.9943 - val_loss: 1.7367 - val_accuracy: 0.7567\n",
      "Epoch 188/200\n",
      "6/6 [==============================] - 0s 7ms/step - loss: 0.0302 - accuracy: 0.9943 - val_loss: 1.6740 - val_accuracy: 0.7533\n",
      "Epoch 189/200\n",
      "6/6 [==============================] - 0s 7ms/step - loss: 0.0149 - accuracy: 0.9971 - val_loss: 1.6540 - val_accuracy: 0.7600\n",
      "Epoch 190/200\n",
      "6/6 [==============================] - 0s 7ms/step - loss: 0.0328 - accuracy: 0.9914 - val_loss: 1.7259 - val_accuracy: 0.7533\n",
      "Epoch 191/200\n",
      "6/6 [==============================] - 0s 7ms/step - loss: 0.0555 - accuracy: 0.9829 - val_loss: 1.6933 - val_accuracy: 0.7600\n",
      "Epoch 192/200\n",
      "6/6 [==============================] - 0s 7ms/step - loss: 0.0479 - accuracy: 0.9871 - val_loss: 1.6606 - val_accuracy: 0.7533\n",
      "Epoch 193/200\n",
      "6/6 [==============================] - 0s 7ms/step - loss: 0.0244 - accuracy: 0.9929 - val_loss: 1.6068 - val_accuracy: 0.7533\n",
      "Epoch 194/200\n",
      "6/6 [==============================] - 0s 7ms/step - loss: 0.0376 - accuracy: 0.9829 - val_loss: 1.5866 - val_accuracy: 0.7633\n",
      "Epoch 195/200\n",
      "6/6 [==============================] - 0s 8ms/step - loss: 0.0279 - accuracy: 0.9929 - val_loss: 1.5707 - val_accuracy: 0.7633\n",
      "Epoch 196/200\n",
      "6/6 [==============================] - 0s 7ms/step - loss: 0.0124 - accuracy: 0.9957 - val_loss: 1.6288 - val_accuracy: 0.7633\n",
      "Epoch 197/200\n",
      "6/6 [==============================] - 0s 7ms/step - loss: 0.0166 - accuracy: 0.9971 - val_loss: 1.7486 - val_accuracy: 0.7433\n",
      "Epoch 198/200\n",
      "6/6 [==============================] - 0s 7ms/step - loss: 0.0195 - accuracy: 0.9943 - val_loss: 1.8159 - val_accuracy: 0.7500\n",
      "Epoch 199/200\n",
      "6/6 [==============================] - 0s 7ms/step - loss: 0.0188 - accuracy: 0.9914 - val_loss: 1.7980 - val_accuracy: 0.7567\n",
      "Epoch 200/200\n",
      "6/6 [==============================] - 0s 7ms/step - loss: 0.0118 - accuracy: 0.9971 - val_loss: 1.8518 - val_accuracy: 0.7500\n"
     ]
    }
   ],
   "source": [
    "history = model.fit(X_train, y_train, batch_size=128, epochs=200, validation_data=(X_test, y_test))"
   ]
  },
  {
   "cell_type": "code",
   "execution_count": 20,
   "metadata": {},
   "outputs": [
    {
     "data": {
      "text/plain": [
       "[<matplotlib.lines.Line2D at 0x7f02825b3f28>]"
      ]
     },
     "execution_count": 20,
     "metadata": {},
     "output_type": "execute_result"
    },
    {
     "data": {
      "image/png": "[encoded data removed]",
      "text/plain": [
       "<Figure size 432x288 with 1 Axes>"
      ]
     },
     "metadata": {
      "needs_background": "light"
     },
     "output_type": "display_data"
    }
   ],
   "source": [
    "epochs = history.epoch\n",
    "loss = history.history['loss']\n",
    "val_loss = history.history['val_loss']\n",
    "plt.plot(epochs, loss)\n",
    "plt.plot(epochs, val_loss)"
   ]
  },
  {
   "cell_type": "code",
   "execution_count": 21,
   "metadata": {},
   "outputs": [
    {
     "data": {
      "text/plain": [
       "[<matplotlib.lines.Line2D at 0x7f02825b3320>]"
      ]
     },
     "execution_count": 21,
     "metadata": {},
     "output_type": "execute_result"
    },
    {
     "data": {
      "image/png": "[encoded data removed]",
      "text/plain": [
       "<Figure size 432x288 with 1 Axes>"
      ]
     },
     "metadata": {
      "needs_background": "light"
     },
     "output_type": "display_data"
    }
   ],
   "source": [
    "acc = history.history['accuracy']\n",
    "val_acc = history.history['val_accuracy']\n",
    "plt.plot(epochs, acc)\n",
    "plt.plot(epochs, val_acc)"
   ]
  },
  {
   "cell_type": "code",
   "execution_count": 22,
   "metadata": {},
   "outputs": [
    {
     "name": "stdout",
     "output_type": "stream",
     "text": [
      "3/3 [==============================] - 0s 2ms/step - loss: 1.8518 - accuracy: 0.7500\n"
     ]
    },
    {
     "data": {
      "text/plain": [
       "[1.8518279790878296, 0.75]"
      ]
     },
     "execution_count": 22,
     "metadata": {},
     "output_type": "execute_result"
    }
   ],
   "source": [
    "model.evaluate(X_test, y_test, batch_size=128)"
   ]
  },
  {
   "cell_type": "code",
   "execution_count": 23,
   "metadata": {},
   "outputs": [
    {
     "data": {
      "text/plain": [
       "array([[24,  0,  0,  0,  1,  0,  2,  0,  0,  3],\n",
       "       [ 0, 25,  1,  0,  0,  4,  0,  0,  0,  0],\n",
       "       [ 2,  1, 20,  0,  0,  2,  2,  0,  2,  1],\n",
       "       [ 1,  1,  0, 17,  1,  0,  3,  3,  2,  2],\n",
       "       [ 1,  0,  0,  1, 20,  0,  2,  0,  6,  0],\n",
       "       [ 0,  1,  1,  0,  0, 28,  0,  0,  0,  0],\n",
       "       [ 4,  0,  0,  1,  0,  0, 25,  0,  0,  0],\n",
       "       [ 0,  1,  1,  0,  1,  0,  0, 24,  3,  0],\n",
       "       [ 1,  0,  0,  3,  0,  0,  1,  0, 24,  1],\n",
       "       [ 1,  0,  4,  3,  1,  0,  1,  0,  2, 18]])"
      ]
     },
     "execution_count": 23,
     "metadata": {},
     "output_type": "execute_result"
    }
   ],
   "source": [
    "y_pred = model.predict(X_test)\n",
    "confusion_matrix(np.argmax(y_test, axis=1), np.argmax(y_pred, axis=1))"
   ]
  },
  {
   "cell_type": "code",
   "execution_count": null,
   "metadata": {},
   "outputs": [],
   "source": []
  },
  {
   "cell_type": "code",
   "execution_count": null,
   "metadata": {},
   "outputs": [],
   "source": []
  },
  {
   "cell_type": "code",
   "execution_count": 37,
   "metadata": {},
   "outputs": [],
   "source": [
    "path = '../data/images_original'"
   ]
  },
  {
   "cell_type": "code",
   "execution_count": 38,
   "metadata": {},
   "outputs": [],
   "source": [
    "def load_image_dataset():\n",
    "    \n",
    "    imgs = keras.utils.image_dataset_from_directory(path, labels='inferred', color_mode='rgb', batch_size=1000)\n",
    "\n",
    "    images = []\n",
    "    labels = []\n",
    "    for (i, l) in imgs.as_numpy_iterator():\n",
    "        images = i / 255\n",
    "        labels = to_categorical(l)\n",
    "        \n",
    "    return images, labels"
   ]
  },
  {
   "cell_type": "code",
   "execution_count": 39,
   "metadata": {},
   "outputs": [
    {
     "name": "stdout",
     "output_type": "stream",
     "text": [
      "Found 999 files belonging to 10 classes.\n"
     ]
    },
    {
     "data": {
      "text/plain": [
       "<matplotlib.image.AxesImage at 0x7f028203dd30>"
      ]
     },
     "execution_count": 39,
     "metadata": {},
     "output_type": "execute_result"
    },
    {
     "data": {
      "image/png": "[encoded data removed]",
      "text/plain": [
       "<Figure size 432x288 with 1 Axes>"
      ]
     },
     "metadata": {
      "needs_background": "light"
     },
     "output_type": "display_data"
    }
   ],
   "source": [
    "images, labels = load_image_dataset()\n",
    "plt.imshow(images[0])"
   ]
  },
  {
   "cell_type": "code",
   "execution_count": 40,
   "metadata": {},
   "outputs": [],
   "source": [
    "X_train, X_test, y_train, y_test = train_test_split(images, labels, test_size=0.3, stratify=labels)"
   ]
  },
  {
   "cell_type": "code",
   "execution_count": 41,
   "metadata": {},
   "outputs": [],
   "source": [
    "input_shape = X_train.shape[1:]\n",
    "num_classes = 10"
   ]
  },
  {
   "cell_type": "code",
   "execution_count": 42,
   "metadata": {},
   "outputs": [
    {
     "name": "stdout",
     "output_type": "stream",
     "text": [
      "Model: \"sequential_3\"\n",
      "_________________________________________________________________\n",
      "Layer (type)                 Output Shape              Param #   \n",
      "=================================================================\n",
      "conv2d_6 (Conv2D)            (None, 256, 256, 32)      896       \n",
      "_________________________________________________________________\n",
      "max_pooling2d_6 (MaxPooling2 (None, 128, 128, 32)      0         \n",
      "_________________________________________________________________\n",
      "conv2d_7 (Conv2D)            (None, 128, 128, 32)      9248      \n",
      "_________________________________________________________________\n",
      "max_pooling2d_7 (MaxPooling2 (None, 64, 64, 32)        0         \n",
      "_________________________________________________________________\n",
      "conv2d_8 (Conv2D)            (None, 64, 64, 32)        9248      \n",
      "_________________________________________________________________\n",
      "max_pooling2d_8 (MaxPooling2 (None, 32, 32, 32)        0         \n",
      "_________________________________________________________________\n",
      "dropout_8 (Dropout)          (None, 32, 32, 32)        0         \n",
      "_________________________________________________________________\n",
      "flatten_2 (Flatten)          (None, 32768)             0         \n",
      "_________________________________________________________________\n",
      "dense_9 (Dense)              (None, 64)                2097216   \n",
      "_________________________________________________________________\n",
      "dense_10 (Dense)             (None, 10)                650       \n",
      "=================================================================\n",
      "Total params: 2,117,258\n",
      "Trainable params: 2,117,258\n",
      "Non-trainable params: 0\n",
      "_________________________________________________________________\n"
     ]
    }
   ],
   "source": [
    "model = Sequential()\n",
    "model.add(Conv2D(32, kernel_size=(3,3), strides=(1,1), padding='same', activation='relu', input_shape=input_shape))\n",
    "model.add(MaxPooling2D(pool_size=(2,2)))\n",
    "\n",
    "model.add(Conv2D(32, kernel_size=(3,3), strides=(1,1), padding='same', activation='relu'))\n",
    "model.add(MaxPooling2D(pool_size=(2,2)))\n",
    "\n",
    "model.add(Conv2D(32, kernel_size=(3,3), strides=(1,1), padding='same', activation='relu'))\n",
    "model.add(MaxPooling2D(pool_size=(2,2)))\n",
    "\n",
    "model.add(Dropout(0.2))\n",
    "\n",
    "model.add(Flatten())\n",
    "model.add(Dense(64, activation='relu'))\n",
    "model.add(Dense(num_classes, activation='softmax'))\n",
    "model.summary()"
   ]
  },
  {
   "cell_type": "code",
   "execution_count": 43,
   "metadata": {},
   "outputs": [],
   "source": [
    "model.compile(optimizer='adam', loss='categorical_crossentropy', metrics=['accuracy'])"
   ]
  },
  {
   "cell_type": "code",
   "execution_count": 44,
   "metadata": {},
   "outputs": [
    {
     "name": "stdout",
     "output_type": "stream",
     "text": [
      "Epoch 1/20\n",
      "22/22 [==============================] - 24s 1s/step - loss: 2.5591 - accuracy: 0.1102 - val_loss: 2.2766 - val_accuracy: 0.1067\n",
      "Epoch 2/20\n",
      "22/22 [==============================] - 27s 1s/step - loss: 2.2454 - accuracy: 0.1617 - val_loss: 2.1713 - val_accuracy: 0.2533\n",
      "Epoch 3/20\n",
      "22/22 [==============================] - 28s 1s/step - loss: 2.1301 - accuracy: 0.2217 - val_loss: 2.0756 - val_accuracy: 0.2433\n",
      "Epoch 4/20\n",
      "22/22 [==============================] - 27s 1s/step - loss: 1.9839 - accuracy: 0.2618 - val_loss: 1.8888 - val_accuracy: 0.3467\n",
      "Epoch 5/20\n",
      "22/22 [==============================] - 28s 1s/step - loss: 1.8218 - accuracy: 0.3448 - val_loss: 1.7031 - val_accuracy: 0.3467\n",
      "Epoch 6/20\n",
      "22/22 [==============================] - 28s 1s/step - loss: 1.5866 - accuracy: 0.4120 - val_loss: 1.7103 - val_accuracy: 0.4000\n",
      "Epoch 7/20\n",
      "22/22 [==============================] - 28s 1s/step - loss: 1.4628 - accuracy: 0.4936 - val_loss: 1.6142 - val_accuracy: 0.3700\n",
      "Epoch 8/20\n",
      "22/22 [==============================] - 28s 1s/step - loss: 1.3143 - accuracy: 0.5536 - val_loss: 1.4474 - val_accuracy: 0.4633\n",
      "Epoch 9/20\n",
      "22/22 [==============================] - 28s 1s/step - loss: 1.1300 - accuracy: 0.5837 - val_loss: 1.4384 - val_accuracy: 0.4933\n",
      "Epoch 10/20\n",
      "22/22 [==============================] - 28s 1s/step - loss: 1.0150 - accuracy: 0.6524 - val_loss: 1.4493 - val_accuracy: 0.5100\n",
      "Epoch 11/20\n",
      "22/22 [==============================] - 28s 1s/step - loss: 0.8428 - accuracy: 0.7139 - val_loss: 1.3814 - val_accuracy: 0.5033\n",
      "Epoch 12/20\n",
      "22/22 [==============================] - 28s 1s/step - loss: 0.7105 - accuracy: 0.7725 - val_loss: 1.3789 - val_accuracy: 0.5500\n",
      "Epoch 13/20\n",
      "22/22 [==============================] - 28s 1s/step - loss: 0.6500 - accuracy: 0.7768 - val_loss: 1.2484 - val_accuracy: 0.5800\n",
      "Epoch 14/20\n",
      "22/22 [==============================] - 28s 1s/step - loss: 0.5010 - accuracy: 0.8312 - val_loss: 1.4004 - val_accuracy: 0.5567\n",
      "Epoch 15/20\n",
      "22/22 [==============================] - 28s 1s/step - loss: 0.3713 - accuracy: 0.8856 - val_loss: 1.4070 - val_accuracy: 0.5767\n",
      "Epoch 16/20\n",
      "22/22 [==============================] - 28s 1s/step - loss: 0.2727 - accuracy: 0.9113 - val_loss: 1.3225 - val_accuracy: 0.5800\n",
      "Epoch 17/20\n",
      "22/22 [==============================] - 28s 1s/step - loss: 0.1967 - accuracy: 0.9542 - val_loss: 1.4945 - val_accuracy: 0.5800\n",
      "Epoch 18/20\n",
      "22/22 [==============================] - 28s 1s/step - loss: 0.1090 - accuracy: 0.9828 - val_loss: 1.6382 - val_accuracy: 0.5667\n",
      "Epoch 19/20\n",
      "22/22 [==============================] - 28s 1s/step - loss: 0.0819 - accuracy: 0.9900 - val_loss: 1.5974 - val_accuracy: 0.5667\n",
      "Epoch 20/20\n",
      "22/22 [==============================] - 28s 1s/step - loss: 0.0721 - accuracy: 0.9785 - val_loss: 1.6189 - val_accuracy: 0.6100\n"
     ]
    }
   ],
   "source": [
    "history = model.fit(X_train, y_train, batch_size=32, epochs=20, verbose=1, validation_data=(X_test, y_test))"
   ]
  },
  {
   "cell_type": "code",
   "execution_count": 45,
   "metadata": {},
   "outputs": [
    {
     "data": {
      "text/plain": [
       "[<matplotlib.lines.Line2D at 0x7f02820d1438>]"
      ]
     },
     "execution_count": 45,
     "metadata": {},
     "output_type": "execute_result"
    },
    {
     "data": {
      "image/png": "[encoded data removed]",
      "text/plain": [
       "<Figure size 432x288 with 1 Axes>"
      ]
     },
     "metadata": {
      "needs_background": "light"
     },
     "output_type": "display_data"
    }
   ],
   "source": [
    "epochs = history.epoch\n",
    "loss = history.history['loss']\n",
    "val_loss = history.history['val_loss']\n",
    "plt.plot(epochs, loss)\n",
    "plt.plot(epochs, val_loss)"
   ]
  },
  {
   "cell_type": "code",
   "execution_count": 46,
   "metadata": {},
   "outputs": [
    {
     "data": {
      "text/plain": [
       "[<matplotlib.lines.Line2D at 0x7f0281f3a6a0>]"
      ]
     },
     "execution_count": 46,
     "metadata": {},
     "output_type": "execute_result"
    },
    {
     "data": {
      "image/png": "[encoded data removed]",
      "text/plain": [
       "<Figure size 432x288 with 1 Axes>"
      ]
     },
     "metadata": {
      "needs_background": "light"
     },
     "output_type": "display_data"
    }
   ],
   "source": [
    "acc = history.history['accuracy']\n",
    "val_acc = history.history['val_accuracy']\n",
    "plt.plot(epochs, acc)\n",
    "plt.plot(epochs, val_acc)"
   ]
  },
  {
   "cell_type": "code",
   "execution_count": 47,
   "metadata": {},
   "outputs": [
    {
     "name": "stdout",
     "output_type": "stream",
     "text": [
      "10/10 [==============================] - 3s 264ms/step - loss: 1.6189 - accuracy: 0.6100\n"
     ]
    },
    {
     "data": {
      "text/plain": [
       "[1.6189062595367432, 0.6100000143051147]"
      ]
     },
     "execution_count": 47,
     "metadata": {},
     "output_type": "execute_result"
    }
   ],
   "source": [
    "model.evaluate(X_test, y_test)"
   ]
  },
  {
   "cell_type": "code",
   "execution_count": 48,
   "metadata": {},
   "outputs": [
    {
     "data": {
      "text/plain": [
       "array([[19,  2,  4,  1,  0,  1,  1,  0,  1,  1],\n",
       "       [ 0, 28,  0,  0,  0,  2,  0,  0,  0,  0],\n",
       "       [ 3,  0, 15,  3,  0,  5,  0,  1,  1,  2],\n",
       "       [ 1,  1,  3, 12,  1,  3,  0,  3,  4,  2],\n",
       "       [ 0,  0,  0,  0, 16,  0,  0,  2,  9,  3],\n",
       "       [ 3,  2,  1,  1,  0, 23,  0,  0,  0,  0],\n",
       "       [ 1,  0,  0,  0,  0,  0, 26,  0,  0,  3],\n",
       "       [ 1,  0,  0,  3,  4,  2,  0, 16,  1,  3],\n",
       "       [ 6,  1,  0,  0,  1,  0,  0,  1, 21,  0],\n",
       "       [ 1,  1, 13,  1,  1,  2,  4,  0,  0,  7]])"
      ]
     },
     "execution_count": 48,
     "metadata": {},
     "output_type": "execute_result"
    }
   ],
   "source": [
    "y_pred = model.predict(X_test)\n",
    "confusion_matrix(np.argmax(y_test, axis=1), np.argmax(y_pred, axis=1))"
   ]
  },
  {
   "cell_type": "code",
   "execution_count": null,
   "metadata": {},
   "outputs": [],
   "source": []
  },
  {
   "cell_type": "code",
   "execution_count": null,
   "metadata": {},
   "outputs": [],
   "source": []
  },
  {
   "cell_type": "code",
   "execution_count": null,
   "metadata": {
    "id": "iBzuHd5dmxSz"
   },
   "outputs": [],
   "source": [
    "Audio('../data/genres_original/hiphop/hiphop.00035.wav')"
   ]
  },
  {
   "cell_type": "code",
   "execution_count": null,
   "metadata": {},
   "outputs": [],
   "source": []
  }
 ],
 "metadata": {
  "colab": {
   "collapsed_sections": [],
   "name": "genre_classification.ipynb",
   "provenance": []
  },
  "kernelspec": {
   "display_name": "Python 3",
   "language": "python",
   "name": "python3"
  },
  "language_info": {
   "codemirror_mode": {
    "name": "ipython",
    "version": 3
   },
   "file_extension": ".py",
   "mimetype": "text/x-python",
   "name": "python",
   "nbconvert_exporter": "python",
   "pygments_lexer": "ipython3",
   "version": "3.6.9"
  }
 },
 "nbformat": 4,
 "nbformat_minor": 1
}
